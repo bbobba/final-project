{
 "cells": [
  {
   "cell_type": "markdown",
   "metadata": {},
   "source": [
    "# Pokémon Classification"
   ]
  },
  {
   "cell_type": "markdown",
   "metadata": {},
   "source": [
    "## Dependencies"
   ]
  },
  {
   "cell_type": "code",
   "execution_count": 1,
   "metadata": {},
   "outputs": [],
   "source": [
    "import glob\n",
    "import cv2\n",
    "import os\n",
    "import matplotlib\n",
    "import numpy as np\n",
    "import pandas as pd\n",
    "import matplotlib.pyplot as plt\n",
    "import matplotlib.image as mpimg\n",
    "from skimage import color, io"
   ]
  },
  {
   "cell_type": "markdown",
   "metadata": {},
   "source": [
    "# Dataset"
   ]
  },
  {
   "cell_type": "code",
   "execution_count": 19,
   "metadata": {},
   "outputs": [],
   "source": [
    "number_of_images = 10908\n",
    "training_size = .8*number_of_images\n",
    "testing_size = .2*number_of_images\n",
    "IMAGE_DIRECTORY= glob.glob('../resources/model-images/')\n",
    "IMAGE_SIZE = 32\n",
    "IMAGE_ARR_SIZE = 32 * 32 * 4\n",
    "KIND_ARRAY=np.array(['Abra', 'Aerodactyl', 'Alakazam', 'Arbok', 'Arcanine',  \n",
    "                    'Articuno', 'Beedrill', 'Bellsprout', 'Blastoise', 'Bulbasaur',  \n",
    "                    'Butterfree','Caterpie','Chansey','Charizard','Charmander',\n",
    "                    'Charmeleon','Clefable', 'Clefairy', 'Cloyster', 'Cubone', \n",
    "                    'Dewgong', 'Diglett', 'Ditto', 'Dodrio', 'Doduo', 'Dragonair', \n",
    "                    'Dragonite', 'Dratini', 'Drowzee', 'Dugtrio', 'Eevee', 'Ekans', \n",
    "                    'Electrabuzz', 'Electrode', 'Exeggcute', 'Exeggutor', 'Farfetchd',\n",
    "                    'Fearow', 'Flareon', 'Gastly', 'Gengar', 'Geodude', 'Gloom', \n",
    "                    'Golbat', 'Goldeen', 'Golduck', 'Golem', 'Graveler', 'Grimer', \n",
    "                    'Growlithe', 'Gyarados', 'Haunter', 'Hitmonchan', 'Hitmonlee', \n",
    "                    'Horsea', 'Hypno', 'Ivysaur', 'Jigglypuff', 'Jolteon', 'Jynx', \n",
    "                    'Kabuto', 'Kabutops', 'Kadabra', 'Kakuna', 'Kangaskhan', 'Kingler',\n",
    "                    'Koffing', 'Krabby', 'Lapras', 'Lickitung', 'Machamp', 'Machoke', \n",
    "                    'Machop', 'Magikarp', 'Magmar', 'Magnemite', 'Magneton', 'Mankey', \n",
    "                    'Marowak', 'Meowth', 'Metapod', 'Mew', 'Mewtwo', 'Moltres', 'MrMime', \n",
    "                    'Muk', 'Nidoking', 'Nidoqueen', 'Nidorina', 'Nidorino', 'Ninetales', \n",
    "                    'Oddish', 'Omantye', 'Omastar', 'Onix', 'Paras', 'Parasect', 'Persian', \n",
    "                    'Pidgeot', 'Pidgeotto', 'Pidgey', 'Pikachu', 'Pinsir', 'Poliwag', \n",
    "                    'Poliwhirl', 'Poliwrath', 'Ponyta', 'Porygon', 'Primeape', 'Psyduck', \n",
    "                    'Raichu', 'Rapidash', 'Raticate', 'Rattata', 'Rhydon', 'Rhyhorn', \n",
    "                    'Sandshrew', 'Sandslash', 'Scyther', 'Seadra', 'Seaking', 'Seel', \n",
    "                    'Shellder', 'Slowbro', 'Slowpoke', 'Snorlax', 'Spearow', 'Squirtle', \n",
    "                    'Starmie', 'Staryu', 'Tangela', 'Tauros', 'Tentacool', 'Tentacruel', \n",
    "                    'Vaporeon', 'Venomoth', 'Venonat', 'Venusaur', 'Victreebel', \n",
    "                    'Vileplume', 'Voltorb', 'Vulpix', 'Wartortle', 'Weedle', 'Weepinbell', \n",
    "                    'Weezing', 'Wigglytuff', 'Zapdos', 'Zupbat'])\\\n",
    "\n",
    "def load_images(image_dir):\n",
    "    labels = []\n",
    "    names = []\n",
    "    read_images = []\n",
    "    image_index = 0\n",
    "    \n",
    "    \n",
    "    # 10908 Pokemon images\n",
    "    X = np.ndarray(shape=(10908, IMAGE_ARR_SIZE))\n",
    "                        \n",
    "    \n",
    "    # Loop through all the folders of different types of pokemon.\n",
    "    for kind in os.listdir(image_dir):\n",
    "        if kind == '.DS_Store':\n",
    "                pass  \n",
    "        else: \n",
    "            type_images = os.listdir(image_dir + kind + '/')\n",
    "\n",
    "            \n",
    "        # Loop through all the images of a certain type of pokemon in the folders.\n",
    "        for image in type_images:\n",
    "            targeted_image = []\n",
    "            image_file = os.path.join(image_dir, kind, image)\n",
    "            #Pre-processing: Convert to grayscale and flatten\n",
    "            targeted_image.append(cv2.imread(image_file, cv2.IMREAD_GRAYSCALE))\n",
    "            targeted_image = np.asarray(targeted_image).flatten()\n",
    "            read_images.append(targeted_image)\n",
    "            names.append(image)\n",
    "            labels.append(kind)\n",
    "\n",
    "            if OSError: \n",
    "                pass          \n",
    "            else:\n",
    "                image_index += 1\n",
    "    #return arrays of the pixels, labels, and names\n",
    "#     return (np.asarray(read_images), np.asarray(labels), np.asarray(names))\n",
    "    return (X, np.asarray(labels), np.asarray(names))"
   ]
  },
  {
   "cell_type": "code",
   "execution_count": 20,
   "metadata": {},
   "outputs": [
    {
     "data": {
      "text/plain": [
       "str"
      ]
     },
     "execution_count": 20,
     "metadata": {},
     "output_type": "execute_result"
    }
   ],
   "source": [
    "IMAGE_DIRECTORY_STR = ''.join(IMAGE_DIRECTORY)\n",
    "type(IMAGE_DIRECTORY_STR)"
   ]
  },
  {
   "cell_type": "code",
   "execution_count": 21,
   "metadata": {},
   "outputs": [],
   "source": [
    "dataset = load_images(IMAGE_DIRECTORY_STR)\n",
    "pokedex = pd.DataFrame({'pixels':dataset[0], 'labels':dataset[1], 'file_names':dataset[2]})"
   ]
  },
  {
   "cell_type": "code",
   "execution_count": 7,
   "metadata": {},
   "outputs": [
    {
     "data": {
      "text/html": [
       "<div>\n",
       "<style scoped>\n",
       "    .dataframe tbody tr th:only-of-type {\n",
       "        vertical-align: middle;\n",
       "    }\n",
       "\n",
       "    .dataframe tbody tr th {\n",
       "        vertical-align: top;\n",
       "    }\n",
       "\n",
       "    .dataframe thead th {\n",
       "        text-align: right;\n",
       "    }\n",
       "</style>\n",
       "<table border=\"1\" class=\"dataframe\">\n",
       "  <thead>\n",
       "    <tr style=\"text-align: right;\">\n",
       "      <th></th>\n",
       "      <th>pixels</th>\n",
       "      <th>labels</th>\n",
       "      <th>file_names</th>\n",
       "    </tr>\n",
       "  </thead>\n",
       "  <tbody>\n",
       "    <tr>\n",
       "      <th>0</th>\n",
       "      <td>[57, 57, 58, 83, 35, 48, 64, 48, 56, 54, 48, 6...</td>\n",
       "      <td>Zapdos</td>\n",
       "      <td>c3f34230c7e24d18845c4d2eaad54801.jpg</td>\n",
       "    </tr>\n",
       "    <tr>\n",
       "      <th>1</th>\n",
       "      <td>[249, 249, 249, 249, 249, 249, 249, 249, 249, ...</td>\n",
       "      <td>Zapdos</td>\n",
       "      <td>f5a52cd93f924e28a46d7def3265d6b4.jpg</td>\n",
       "    </tr>\n",
       "    <tr>\n",
       "      <th>2</th>\n",
       "      <td>[88, 88, 89, 89, 89, 90, 90, 90, 91, 91, 92, 9...</td>\n",
       "      <td>Zapdos</td>\n",
       "      <td>26b19f8809ce496eae2e1b822d54492c.jpg</td>\n",
       "    </tr>\n",
       "    <tr>\n",
       "      <th>3</th>\n",
       "      <td>[50, 46, 48, 48, 48, 50, 51, 48, 48, 50, 50, 5...</td>\n",
       "      <td>Zapdos</td>\n",
       "      <td>7a63f55b762a4fe7b6cd92f17ea22ebf.jpg</td>\n",
       "    </tr>\n",
       "    <tr>\n",
       "      <th>4</th>\n",
       "      <td>[255, 255, 255, 255, 255, 255, 255, 255, 255, ...</td>\n",
       "      <td>Zapdos</td>\n",
       "      <td>0b9b5e421d8949e0b2b6698c8d0bb92e.jpg</td>\n",
       "    </tr>\n",
       "  </tbody>\n",
       "</table>\n",
       "</div>"
      ],
      "text/plain": [
       "                                              pixels  labels  \\\n",
       "0  [57, 57, 58, 83, 35, 48, 64, 48, 56, 54, 48, 6...  Zapdos   \n",
       "1  [249, 249, 249, 249, 249, 249, 249, 249, 249, ...  Zapdos   \n",
       "2  [88, 88, 89, 89, 89, 90, 90, 90, 91, 91, 92, 9...  Zapdos   \n",
       "3  [50, 46, 48, 48, 48, 50, 51, 48, 48, 50, 50, 5...  Zapdos   \n",
       "4  [255, 255, 255, 255, 255, 255, 255, 255, 255, ...  Zapdos   \n",
       "\n",
       "                             file_names  \n",
       "0  c3f34230c7e24d18845c4d2eaad54801.jpg  \n",
       "1  f5a52cd93f924e28a46d7def3265d6b4.jpg  \n",
       "2  26b19f8809ce496eae2e1b822d54492c.jpg  \n",
       "3  7a63f55b762a4fe7b6cd92f17ea22ebf.jpg  \n",
       "4  0b9b5e421d8949e0b2b6698c8d0bb92e.jpg  "
      ]
     },
     "execution_count": 7,
     "metadata": {},
     "output_type": "execute_result"
    }
   ],
   "source": [
    "pokedex.head()"
   ]
  },
  {
   "cell_type": "markdown",
   "metadata": {},
   "source": [
    "## Split the Data into Training and Testing"
   ]
  },
  {
   "cell_type": "code",
   "execution_count": 10,
   "metadata": {},
   "outputs": [],
   "source": [
    "from sklearn.model_selection import train_test_split\n",
    "\n",
    "X_train, X_test, y_train, y_test = train_test_split(pokedex[\"pixels\"], pokedex[\"labels\"], \n",
    "                                                    test_size=0.2, random_state=42)"
   ]
  },
  {
   "cell_type": "code",
   "execution_count": 24,
   "metadata": {},
   "outputs": [
    {
     "name": "stdout",
     "output_type": "stream",
     "text": [
      "Length X_Train: 8726 Length y_train: 8726\n",
      "Length X_test: 2182 Length y_test: 2182\n"
     ]
    }
   ],
   "source": [
    "print(\"Length X_Train:\", len(X_train), \"Length y_train:\", len(y_train))\n",
    "print(\"Length X_test:\", len(X_test), \"Length y_test:\", len(y_test))"
   ]
  },
  {
   "cell_type": "markdown",
   "metadata": {},
   "source": [
    "## Random Forests - No Good"
   ]
  },
  {
   "cell_type": "markdown",
   "metadata": {},
   "source": [
    "### This model does not work well for images because it assumes the individual pixel values are unique."
   ]
  },
  {
   "cell_type": "code",
   "execution_count": null,
   "metadata": {},
   "outputs": [],
   "source": [
    "from sklearn.ensemble import RandomForestClassifier\n",
    "\n",
    "clf = RandomForestClassifier()\n",
    "RandomForestClassifier(bootstrap=True, class_weight=None, criterion='gini',\n",
    "           max_depth=None, max_features='auto', max_leaf_nodes=None,\n",
    "           min_impurity_split=1e-07, min_samples_leaf=1,\n",
    "           min_samples_split=2, min_weight_fraction_leaf=0.0,\n",
    "           n_estimators=10, n_jobs=1, oob_score=False, random_state=None,\n",
    "           verbose=0, warm_start=False)"
   ]
  },
  {
   "cell_type": "code",
   "execution_count": null,
   "metadata": {},
   "outputs": [],
   "source": [
    "X_train = X_train.reshape((len(X_train), 1))"
   ]
  },
  {
   "cell_type": "code",
   "execution_count": null,
   "metadata": {},
   "outputs": [],
   "source": [
    "clf.fit(X_train, y_train)"
   ]
  },
  {
   "cell_type": "markdown",
   "metadata": {},
   "source": [
    "### Test the accuracy of the model"
   ]
  },
  {
   "cell_type": "code",
   "execution_count": null,
   "metadata": {},
   "outputs": [],
   "source": [
    "from sklearn.metrics import accuracy_score\n",
    "\n",
    "predictions = clf.predict(X_test)\n",
    "print(\"Accuracy:\", accuracy_score(y_test,predictions))"
   ]
  },
  {
   "cell_type": "markdown",
   "metadata": {},
   "source": [
    "#### The accuracy score gave about 3%."
   ]
  },
  {
   "cell_type": "markdown",
   "metadata": {},
   "source": [
    "## DNN Classifier"
   ]
  },
  {
   "cell_type": "code",
   "execution_count": null,
   "metadata": {},
   "outputs": [],
   "source": [
    "import tensorflow as tf\n",
    "\n",
    "dnn_clf = tf.contrib.learn.DNNClassifier(hidden_units=[300,100], n_classes=10908, \n",
    "                                        feature_columns=feature_columns)\n",
    "\n",
    "dnn_clf.fit(X_train, labels_index, batch_size=10, steps=20000)"
   ]
  },
  {
   "cell_type": "markdown",
   "metadata": {},
   "source": [
    "### Test the accuracy of the model"
   ]
  },
  {
   "cell_type": "code",
   "execution_count": null,
   "metadata": {},
   "outputs": [],
   "source": [
    "sample, sample_labels= X_test, y_test\n",
    "\n",
    "#sample labels index = y test labels index\n",
    "sample_labels_index = list(range(len(y_test)))\n",
    "\n",
    "predictions = list(dnn_clf.predict(X_test))\n",
    "#predictions = models thoughts on what the y is\n",
    "print(\"Predict\", predictions)\n",
    "#the sample labels index is the actual y\n",
    "print (\"Actual \", sample_labels_index)\n",
    "# plot_pokemons(sample, images_per_row=5)\n",
    "print(sample_labels)\n",
    "\n",
    "accuracy_score = dnn_clf.evaluate(sample, sample_labels_index, steps=2)[\"accuracy\"]\n",
    "print(\"\\nTest Accuracy: {0:f}\\n\".format(accuracy_score))"
   ]
  },
  {
   "cell_type": "markdown",
   "metadata": {},
   "source": [
    "## Decision Tree - No Good"
   ]
  },
  {
   "cell_type": "code",
   "execution_count": null,
   "metadata": {},
   "outputs": [],
   "source": [
    "# Import Decision Tree Classifier\n",
    "from sklearn.tree import DecisionTreeClassifier"
   ]
  },
  {
   "cell_type": "code",
   "execution_count": null,
   "metadata": {},
   "outputs": [],
   "source": [
    "from sklearn.tree import DecisionTreeClassifier\n",
    "model = DecisionTreeClassifier()"
   ]
  },
  {
   "cell_type": "code",
   "execution_count": null,
   "metadata": {},
   "outputs": [],
   "source": [
    "model.fit(x_train,y_train)\n",
    "y_predict = model.predict(x_test)"
   ]
  },
  {
   "cell_type": "markdown",
   "metadata": {},
   "source": [
    "### Test the Accuracy"
   ]
  },
  {
   "cell_type": "code",
   "execution_count": null,
   "metadata": {},
   "outputs": [],
   "source": [
    "from sklearn.metrics import accuracy_score\n",
    "accuracy_score(y_test,y_predict)"
   ]
  },
  {
   "cell_type": "code",
   "execution_count": null,
   "metadata": {},
   "outputs": [],
   "source": []
  },
  {
   "cell_type": "code",
   "execution_count": null,
   "metadata": {},
   "outputs": [],
   "source": []
  }
 ],
 "metadata": {
  "kernelspec": {
   "display_name": "Python 3",
   "language": "python",
   "name": "python3"
  },
  "language_info": {
   "codemirror_mode": {
    "name": "ipython",
    "version": 3
   },
   "file_extension": ".py",
   "mimetype": "text/x-python",
   "name": "python",
   "nbconvert_exporter": "python",
   "pygments_lexer": "ipython3",
   "version": "3.6.7"
  }
 },
 "nbformat": 4,
 "nbformat_minor": 2
}
