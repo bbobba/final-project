{
 "cells": [
  {
   "cell_type": "code",
   "execution_count": 12,
   "metadata": {},
   "outputs": [],
   "source": [
    "import os\n",
    "import matplotlib\n",
    "import numpy as np\n",
    "import pandas as pd\n",
    "import matplotlib.pyplot as plt\n",
    "import matplotlib.image as mpimg\n",
    "import glob\n",
    "import cv2\n",
    "\n",
    "#\n",
    "from skimage import color \n",
    "from skimage import io \n",
    "#\n",
    "\n",
    "NUM_IMAGES = 10908\n",
    "TRAIN_SIZE = .8*NUM_IMAGES\n",
    "TEST_SIZE = .2*NUM_IMAGES\n",
    "IMAGE_DIRECTORY= glob.glob('../resources/model-images/')\n",
    "IMAGE_SIZE = 32\n",
    "IMAGE_ARR_SIZE = 32 * 32 * 4\n",
    "KIND_ARRAY=np.array(['Abra', 'Aerodactyl', 'Alakazam', 'Arbok', 'Arcanine',  \n",
    "                    'Articuno', 'Beedrill', 'Bellsprout', 'Blastoise', 'Bulbasaur',  \n",
    "                    'Butterfree','Caterpie','Chansey','Charizard','Charmander',\n",
    "                    'Charmeleon','Clefable', 'Clefairy', 'Cloyster', 'Cubone', \n",
    "                    'Dewgong', 'Diglett', 'Ditto', 'Dodrio', 'Doduo', 'Dragonair', \n",
    "                    'Dragonite', 'Dratini', 'Drowzee', 'Dugtrio', 'Eevee', 'Ekans', \n",
    "                    'Electrabuzz', 'Electrode', 'Exeggcute', 'Exeggutor', 'Farfetchd',\n",
    "                    'Fearow', 'Flareon', 'Gastly', 'Gengar', 'Geodude', 'Gloom', \n",
    "                    'Golbat', 'Goldeen', 'Golduck', 'Golem', 'Graveler', 'Grimer', \n",
    "                    'Growlithe', 'Gyarados', 'Haunter', 'Hitmonchan', 'Hitmonlee', \n",
    "                    'Horsea', 'Hypno', 'Ivysaur', 'Jigglypuff', 'Jolteon', 'Jynx', \n",
    "                    'Kabuto', 'Kabutops', 'Kadabra', 'Kakuna', 'Kangaskhan', 'Kingler',\n",
    "                    'Koffing', 'Krabby', 'Lapras', 'Lickitung', 'Machamp', 'Machoke', \n",
    "                    'Machop', 'Magikarp', 'Magmar', 'Magnemite', 'Magneton', 'Mankey', \n",
    "                    'Marowak', 'Meowth', 'Metapod', 'Mew', 'Mewtwo', 'Moltres', 'MrMime', \n",
    "                    'Muk', 'Nidoking', 'Nidoqueen', 'Nidorina', 'Nidorino', 'Ninetales', \n",
    "                    'Oddish', 'Omantye', 'Omastar', 'Onix', 'Paras', 'Parasect', 'Persian', \n",
    "                    'Pidgeot', 'Pidgeotto', 'Pidgey', 'Pikachu', 'Pinsir', 'Poliwag', \n",
    "                    'Poliwhirl', 'Poliwrath', 'Ponyta', 'Porygon', 'Primeape', 'Psyduck', \n",
    "                    'Raichu', 'Rapidash', 'Raticate', 'Rattata', 'Rhydon', 'Rhyhorn', \n",
    "                    'Sandshrew', 'Sandslash', 'Scyther', 'Seadra', 'Seaking', 'Seel', \n",
    "                    'Shellder', 'Slowbro', 'Slowpoke', 'Snorlax', 'Spearow', 'Squirtle', \n",
    "                    'Starmie', 'Staryu', 'Tangela', 'Tauros', 'Tentacool', 'Tentacruel', \n",
    "                    'Vaporeon', 'Venomoth', 'Venonat', 'Venusaur', 'Victreebel', \n",
    "                    'Vileplume', 'Voltorb', 'Vulpix', 'Wartortle', 'Weedle', 'Weepinbell', \n",
    "                    'Weezing', 'Wigglytuff', 'Zapdos', 'Zupbat'])\\\n",
    "\n",
    "\n",
    "def load_images(image_dir):\n",
    "    labels = []\n",
    "    names = []\n",
    "    read_images = []\n",
    "    image_index = 0\n",
    "    \n",
    "    \n",
    "    # 10908 Pokemon images\n",
    "    X = np.ndarray(shape=(10908, IMAGE_ARR_SIZE))\n",
    "                        \n",
    "    \n",
    "    # Loop through all the folders\n",
    "    for kind in os.listdir(image_dir):\n",
    "        if kind == '.DS_Store':\n",
    "                pass  \n",
    "        else: \n",
    "            type_images = os.listdir(image_dir + kind + '/')\n",
    "\n",
    "            \n",
    "        # Loop through all the images in the folders\n",
    "        for image in type_images:\n",
    "            targeted_image = []\n",
    "            image_file = os.path.join(image_dir, kind, image)\n",
    "            targeted_image.append(cv2.imread(image_file, cv2.IMREAD_GRAYSCALE))\n",
    "            targeted_image = np.asarray(targeted_image).flatten()\n",
    "#             targeted_image = targeted_image.flatten()\n",
    "            read_images.append(targeted_image)\n",
    "#             image_file = (cv2.imread(image, cv2.IMREAD_GRAYSCALE))\n",
    "            names.append(image)\n",
    "            labels.append(kind)\n",
    "\n",
    "            if OSError: \n",
    "                pass          \n",
    "            else:\n",
    "#                 image_data = mpimg.imread(image_file)\n",
    "#                 image_data = cv2.imread(image_file, cv2.IMREAD_GRAYSCALE)\n",
    "#             image_data = image.load_img(image_file, target_size=(224, 224))\n",
    "#             image_data = image.img_to_array(image_file)\n",
    "#             image_data /= 255\n",
    "#                 X[image_index, :] = image_data.flatten()\n",
    "#                 X[image_index, :, :] = image_data.flatten().reshape(-1, 28 * 28)\n",
    "                image_index += 1\n",
    "        \n",
    "#     return (X, np.asarray(labels), np.asarray(names))\n",
    "    return (np.asarray(read_images), np.asarray(labels), np.asarray(names))\n",
    "\n",
    "# def plot_pokemon(data):\n",
    "#     plt.figure(figsize=(1,1))\n",
    "#     image = data.reshape(32, 32, 4)\n",
    "#     plt.imshow(image, cmap = matplotlib.cm.binary,\n",
    "#                interpolation=\"nearest\")\n",
    "#     plt.axis(\"off\")\n",
    "#     plt.show()\n",
    "\n",
    "# def plot_pokemons(instances, images_per_row=10, **options):\n",
    "#     size = IMAGE_SIZE\n",
    "#     images_per_row = min(len(instances), images_per_row)\n",
    "#     images = [instance.reshape(size,size,4) for instance in instances]\n",
    "#     n_rows = (len(instances) - 1) // images_per_row + 1\n",
    "#     row_images = []\n",
    "#     n_empty = n_rows * images_per_row - len(instances)\n",
    "#     images.append(np.zeros((size, size * n_empty)))\n",
    "#     for row in range(n_rows):\n",
    "#         if (row == len(instances)/images_per_row):\n",
    "#             break\n",
    "#         rimages = images[row * images_per_row : (row + 1) * images_per_row]\n",
    "#         #print (row, np.array(rimages).shape)    \n",
    "#         row_images.append(np.concatenate(rimages, axis=1))\n",
    "#     image = np.concatenate(row_images, axis=0)\n",
    "#     plt.imshow(image, **options)\n",
    "#     plt.axis(\"off\")\n",
    "#     plt.show()\n",
    "    \n",
    "# def get_pokemon_of_type(X, labels, kind):\n",
    "#     poke_type = []\n",
    "#     for row in range(len(X)-1):\n",
    "#         if (labels[row]==kind):\n",
    "#             poke_type.append(X[row])\n",
    "#     return np.asarray(poke_type)\n",
    "\n",
    "# def get_pokemon_type_index(type_name):\n",
    "#     for i in range(len(TYPE_ARRAY)):\n",
    "#         if TYPE_ARRAY[i] == type_name:\n",
    "#             return i;\n",
    "#     return 0\n",
    "\n",
    "def get_labels_index(labels):\n",
    "    labels_index = []\n",
    "    for i in range(len(labels)):\n",
    "        labels_index.append(labels[i])\n",
    "    return labels_index"
   ]
  },
  {
   "cell_type": "code",
   "execution_count": 13,
   "metadata": {},
   "outputs": [
    {
     "data": {
      "text/plain": [
       "str"
      ]
     },
     "execution_count": 13,
     "metadata": {},
     "output_type": "execute_result"
    }
   ],
   "source": [
    "type(IMAGE_DIRECTORY)\n",
    "IMAGE_DIRECTORY_STR = ''.join(IMAGE_DIRECTORY)\n",
    "type(IMAGE_DIRECTORY_STR)"
   ]
  },
  {
   "cell_type": "code",
   "execution_count": 14,
   "metadata": {},
   "outputs": [
    {
     "data": {
      "text/plain": [
       "(array([array([ 57,  57,  58, ..., 143, 175, 165], dtype=uint8),\n",
       "        array([249, 249, 249, ..., 229, 229, 229], dtype=uint8),\n",
       "        array([88, 88, 89, ..., 73, 73, 73], dtype=uint8), ...,\n",
       "        array([252, 252, 252, ..., 236, 236, 235], dtype=uint8),\n",
       "        array([255, 255, 255, ..., 255, 255, 255], dtype=uint8),\n",
       "        array([0, 0, 0, ..., 0, 0, 0], dtype=uint8)], dtype=object),\n",
       " array(['Zapdos', 'Zapdos', 'Zapdos', ..., 'Farfetchd', 'Farfetchd',\n",
       "        'Farfetchd'], dtype='<U10'),\n",
       " array(['c3f34230c7e24d18845c4d2eaad54801.jpg',\n",
       "        'f5a52cd93f924e28a46d7def3265d6b4.jpg',\n",
       "        '26b19f8809ce496eae2e1b822d54492c.jpg', ...,\n",
       "        '6293a3eb9acb461ca4414815e4608c3f.jpg',\n",
       "        '0ebb1e766b2643c485d8576ac2fbfcfb.jpg',\n",
       "        '08646b3a487044b58eb8f288779ca403.jpg'], dtype='<U41'))"
      ]
     },
     "execution_count": 14,
     "metadata": {},
     "output_type": "execute_result"
    }
   ],
   "source": [
    "dataset = load_images(IMAGE_DIRECTORY_STR)\n",
    "dataset"
   ]
  },
  {
   "cell_type": "code",
   "execution_count": 37,
   "metadata": {},
   "outputs": [],
   "source": [
    "df = pd.DataFrame({'pixel':dataset[0], 'labels':dataset[1], 'file_names':dataset[2]})"
   ]
  },
  {
   "cell_type": "code",
   "execution_count": 38,
   "metadata": {},
   "outputs": [
    {
     "data": {
      "text/html": [
       "<div>\n",
       "<style scoped>\n",
       "    .dataframe tbody tr th:only-of-type {\n",
       "        vertical-align: middle;\n",
       "    }\n",
       "\n",
       "    .dataframe tbody tr th {\n",
       "        vertical-align: top;\n",
       "    }\n",
       "\n",
       "    .dataframe thead th {\n",
       "        text-align: right;\n",
       "    }\n",
       "</style>\n",
       "<table border=\"1\" class=\"dataframe\">\n",
       "  <thead>\n",
       "    <tr style=\"text-align: right;\">\n",
       "      <th></th>\n",
       "      <th>pixel</th>\n",
       "      <th>labels</th>\n",
       "      <th>file_names</th>\n",
       "    </tr>\n",
       "  </thead>\n",
       "  <tbody>\n",
       "    <tr>\n",
       "      <th>0</th>\n",
       "      <td>[57, 57, 58, 83, 35, 48, 64, 48, 56, 54, 48, 6...</td>\n",
       "      <td>Zapdos</td>\n",
       "      <td>c3f34230c7e24d18845c4d2eaad54801.jpg</td>\n",
       "    </tr>\n",
       "    <tr>\n",
       "      <th>1</th>\n",
       "      <td>[249, 249, 249, 249, 249, 249, 249, 249, 249, ...</td>\n",
       "      <td>Zapdos</td>\n",
       "      <td>f5a52cd93f924e28a46d7def3265d6b4.jpg</td>\n",
       "    </tr>\n",
       "    <tr>\n",
       "      <th>2</th>\n",
       "      <td>[88, 88, 89, 89, 89, 90, 90, 90, 91, 91, 92, 9...</td>\n",
       "      <td>Zapdos</td>\n",
       "      <td>26b19f8809ce496eae2e1b822d54492c.jpg</td>\n",
       "    </tr>\n",
       "    <tr>\n",
       "      <th>3</th>\n",
       "      <td>[50, 46, 48, 48, 48, 50, 51, 48, 48, 50, 50, 5...</td>\n",
       "      <td>Zapdos</td>\n",
       "      <td>7a63f55b762a4fe7b6cd92f17ea22ebf.jpg</td>\n",
       "    </tr>\n",
       "    <tr>\n",
       "      <th>4</th>\n",
       "      <td>[255, 255, 255, 255, 255, 255, 255, 255, 255, ...</td>\n",
       "      <td>Zapdos</td>\n",
       "      <td>0b9b5e421d8949e0b2b6698c8d0bb92e.jpg</td>\n",
       "    </tr>\n",
       "  </tbody>\n",
       "</table>\n",
       "</div>"
      ],
      "text/plain": [
       "                                               pixel  labels  \\\n",
       "0  [57, 57, 58, 83, 35, 48, 64, 48, 56, 54, 48, 6...  Zapdos   \n",
       "1  [249, 249, 249, 249, 249, 249, 249, 249, 249, ...  Zapdos   \n",
       "2  [88, 88, 89, 89, 89, 90, 90, 90, 91, 91, 92, 9...  Zapdos   \n",
       "3  [50, 46, 48, 48, 48, 50, 51, 48, 48, 50, 50, 5...  Zapdos   \n",
       "4  [255, 255, 255, 255, 255, 255, 255, 255, 255, ...  Zapdos   \n",
       "\n",
       "                             file_names  \n",
       "0  c3f34230c7e24d18845c4d2eaad54801.jpg  \n",
       "1  f5a52cd93f924e28a46d7def3265d6b4.jpg  \n",
       "2  26b19f8809ce496eae2e1b822d54492c.jpg  \n",
       "3  7a63f55b762a4fe7b6cd92f17ea22ebf.jpg  \n",
       "4  0b9b5e421d8949e0b2b6698c8d0bb92e.jpg  "
      ]
     },
     "execution_count": 38,
     "metadata": {},
     "output_type": "execute_result"
    }
   ],
   "source": [
    "df.head()"
   ]
  },
  {
   "cell_type": "code",
   "execution_count": 15,
   "metadata": {},
   "outputs": [],
   "source": [
    "y = dataset[1]\n",
    "X = dataset[0]"
   ]
  },
  {
   "cell_type": "code",
   "execution_count": 40,
   "metadata": {},
   "outputs": [],
   "source": [
    "from sklearn.model_selection import train_test_split\n",
    "\n",
    "X_train, X_test, y_train, y_test = train_test_split(df[\"pixel\"], df[\"labels\"], test_size=0.2, random_state=42)"
   ]
  },
  {
   "cell_type": "code",
   "execution_count": 17,
   "metadata": {},
   "outputs": [],
   "source": [
    "# labels_index = pd.to_numeric(labels_index)\n",
    "# labels_index\n",
    "# type(labels_index)\n",
    "# labels_index = list.index(labels_index)\n",
    "# type(labels_index)\n",
    "labels_index = list(range(len(y_train)))"
   ]
  },
  {
   "cell_type": "code",
   "execution_count": 18,
   "metadata": {},
   "outputs": [],
   "source": [
    "# X_train = X_train.tolist()"
   ]
  },
  {
   "cell_type": "code",
   "execution_count": 45,
   "metadata": {},
   "outputs": [
    {
     "ename": "TypeError",
     "evalue": "Invalid object type at position 0",
     "output_type": "error",
     "traceback": [
      "\u001b[0;31m---------------------------------------------------------------------------\u001b[0m",
      "\u001b[0;31mTypeError\u001b[0m                                 Traceback (most recent call last)",
      "\u001b[0;32mpandas/_libs/src/inference.pyx\u001b[0m in \u001b[0;36mpandas._libs.lib.maybe_convert_numeric\u001b[0;34m()\u001b[0m\n",
      "\u001b[0;31mTypeError\u001b[0m: Invalid object type",
      "\nDuring handling of the above exception, another exception occurred:\n",
      "\u001b[0;31mTypeError\u001b[0m                                 Traceback (most recent call last)",
      "\u001b[0;32m<ipython-input-45-93a8aac05150>\u001b[0m in \u001b[0;36m<module>\u001b[0;34m\u001b[0m\n\u001b[1;32m      1\u001b[0m \u001b[0;31m# type(X_train)\u001b[0m\u001b[0;34m\u001b[0m\u001b[0;34m\u001b[0m\u001b[0;34m\u001b[0m\u001b[0m\n\u001b[0;32m----> 2\u001b[0;31m \u001b[0mX_train\u001b[0m \u001b[0;34m=\u001b[0m \u001b[0mpd\u001b[0m\u001b[0;34m.\u001b[0m\u001b[0mto_numeric\u001b[0m\u001b[0;34m(\u001b[0m\u001b[0mX_train\u001b[0m\u001b[0;34m)\u001b[0m\u001b[0;34m\u001b[0m\u001b[0;34m\u001b[0m\u001b[0m\n\u001b[0m\u001b[1;32m      3\u001b[0m \u001b[0;31m# type(X_train[0][0])\u001b[0m\u001b[0;34m\u001b[0m\u001b[0;34m\u001b[0m\u001b[0;34m\u001b[0m\u001b[0m\n\u001b[1;32m      4\u001b[0m \u001b[0;31m# X_train\u001b[0m\u001b[0;34m\u001b[0m\u001b[0;34m\u001b[0m\u001b[0;34m\u001b[0m\u001b[0m\n",
      "\u001b[0;32m~/anaconda3/lib/python3.6/site-packages/pandas/core/tools/numeric.py\u001b[0m in \u001b[0;36mto_numeric\u001b[0;34m(arg, errors, downcast)\u001b[0m\n\u001b[1;32m    131\u001b[0m             \u001b[0mcoerce_numeric\u001b[0m \u001b[0;34m=\u001b[0m \u001b[0;32mFalse\u001b[0m \u001b[0;32mif\u001b[0m \u001b[0merrors\u001b[0m \u001b[0;32min\u001b[0m \u001b[0;34m(\u001b[0m\u001b[0;34m'ignore'\u001b[0m\u001b[0;34m,\u001b[0m \u001b[0;34m'raise'\u001b[0m\u001b[0;34m)\u001b[0m \u001b[0;32melse\u001b[0m \u001b[0;32mTrue\u001b[0m\u001b[0;34m\u001b[0m\u001b[0;34m\u001b[0m\u001b[0m\n\u001b[1;32m    132\u001b[0m             values = lib.maybe_convert_numeric(values, set(),\n\u001b[0;32m--> 133\u001b[0;31m                                                coerce_numeric=coerce_numeric)\n\u001b[0m\u001b[1;32m    134\u001b[0m \u001b[0;34m\u001b[0m\u001b[0m\n\u001b[1;32m    135\u001b[0m     \u001b[0;32mexcept\u001b[0m \u001b[0mException\u001b[0m\u001b[0;34m:\u001b[0m\u001b[0;34m\u001b[0m\u001b[0;34m\u001b[0m\u001b[0m\n",
      "\u001b[0;32mpandas/_libs/src/inference.pyx\u001b[0m in \u001b[0;36mpandas._libs.lib.maybe_convert_numeric\u001b[0;34m()\u001b[0m\n",
      "\u001b[0;31mTypeError\u001b[0m: Invalid object type at position 0"
     ]
    }
   ],
   "source": [
    "# type(X_train)\n",
    "# X_train = pd.to_numeric(X_train)\n",
    "# type(X_train[0][0])\n",
    "# X_train"
   ]
  },
  {
   "cell_type": "code",
   "execution_count": 42,
   "metadata": {},
   "outputs": [
    {
     "ename": "ValueError",
     "evalue": "('Non integer or non floating types are not supported for auto detection. Please define corresponding FeatureColumn for tensor {} {}.', '', <tf.Tensor 'input:0' shape=(?, 1) dtype=string>)",
     "output_type": "error",
     "traceback": [
      "\u001b[0;31m---------------------------------------------------------------------------\u001b[0m",
      "\u001b[0;31mValueError\u001b[0m                                Traceback (most recent call last)",
      "\u001b[0;32m<ipython-input-42-42d0caf4214e>\u001b[0m in \u001b[0;36m<module>\u001b[0;34m\u001b[0m\n\u001b[1;32m      1\u001b[0m \u001b[0;32mimport\u001b[0m \u001b[0mtensorflow\u001b[0m \u001b[0;32mas\u001b[0m \u001b[0mtf\u001b[0m\u001b[0;34m\u001b[0m\u001b[0;34m\u001b[0m\u001b[0m\n\u001b[1;32m      2\u001b[0m \u001b[0;34m\u001b[0m\u001b[0m\n\u001b[0;32m----> 3\u001b[0;31m \u001b[0mfeature_columns\u001b[0m \u001b[0;34m=\u001b[0m \u001b[0mtf\u001b[0m\u001b[0;34m.\u001b[0m\u001b[0mcontrib\u001b[0m\u001b[0;34m.\u001b[0m\u001b[0mlearn\u001b[0m\u001b[0;34m.\u001b[0m\u001b[0minfer_real_valued_columns_from_input\u001b[0m\u001b[0;34m(\u001b[0m\u001b[0mX_train\u001b[0m\u001b[0;34m)\u001b[0m\u001b[0;34m\u001b[0m\u001b[0;34m\u001b[0m\u001b[0m\n\u001b[0m\u001b[1;32m      4\u001b[0m \u001b[0;34m\u001b[0m\u001b[0m\n\u001b[1;32m      5\u001b[0m \u001b[0;31m# feature_columns = tf.feature_column.numeric_column(\u001b[0m\u001b[0;34m\u001b[0m\u001b[0;34m\u001b[0m\u001b[0;34m\u001b[0m\u001b[0m\n",
      "\u001b[0;32m~/anaconda3/lib/python3.6/site-packages/tensorflow/python/util/deprecation.py\u001b[0m in \u001b[0;36mnew_func\u001b[0;34m(*args, **kwargs)\u001b[0m\n\u001b[1;32m    270\u001b[0m               \u001b[0;34m'in a future version'\u001b[0m \u001b[0;32mif\u001b[0m \u001b[0mdate\u001b[0m \u001b[0;32mis\u001b[0m \u001b[0;32mNone\u001b[0m \u001b[0;32melse\u001b[0m \u001b[0;34m(\u001b[0m\u001b[0;34m'after %s'\u001b[0m \u001b[0;34m%\u001b[0m \u001b[0mdate\u001b[0m\u001b[0;34m)\u001b[0m\u001b[0;34m,\u001b[0m\u001b[0;34m\u001b[0m\u001b[0;34m\u001b[0m\u001b[0m\n\u001b[1;32m    271\u001b[0m               instructions)\n\u001b[0;32m--> 272\u001b[0;31m       \u001b[0;32mreturn\u001b[0m \u001b[0mfunc\u001b[0m\u001b[0;34m(\u001b[0m\u001b[0;34m*\u001b[0m\u001b[0margs\u001b[0m\u001b[0;34m,\u001b[0m \u001b[0;34m**\u001b[0m\u001b[0mkwargs\u001b[0m\u001b[0;34m)\u001b[0m\u001b[0;34m\u001b[0m\u001b[0;34m\u001b[0m\u001b[0m\n\u001b[0m\u001b[1;32m    273\u001b[0m     return tf_decorator.make_decorator(\n\u001b[1;32m    274\u001b[0m         \u001b[0mfunc\u001b[0m\u001b[0;34m,\u001b[0m \u001b[0mnew_func\u001b[0m\u001b[0;34m,\u001b[0m \u001b[0;34m'deprecated'\u001b[0m\u001b[0;34m,\u001b[0m\u001b[0;34m\u001b[0m\u001b[0;34m\u001b[0m\u001b[0m\n",
      "\u001b[0;32m~/anaconda3/lib/python3.6/site-packages/tensorflow/contrib/learn/python/learn/estimators/estimator.py\u001b[0m in \u001b[0;36minfer_real_valued_columns_from_input\u001b[0;34m(x)\u001b[0m\n\u001b[1;32m    180\u001b[0m   input_fn, _ = _get_input_fn(\n\u001b[1;32m    181\u001b[0m       x=x, y=None, input_fn=None, feed_fn=None, batch_size=None)\n\u001b[0;32m--> 182\u001b[0;31m   \u001b[0;32mreturn\u001b[0m \u001b[0minfer_real_valued_columns_from_input_fn\u001b[0m\u001b[0;34m(\u001b[0m\u001b[0minput_fn\u001b[0m\u001b[0;34m)\u001b[0m\u001b[0;34m\u001b[0m\u001b[0;34m\u001b[0m\u001b[0m\n\u001b[0m\u001b[1;32m    183\u001b[0m \u001b[0;34m\u001b[0m\u001b[0m\n\u001b[1;32m    184\u001b[0m \u001b[0;34m\u001b[0m\u001b[0m\n",
      "\u001b[0;32m~/anaconda3/lib/python3.6/site-packages/tensorflow/python/util/deprecation.py\u001b[0m in \u001b[0;36mnew_func\u001b[0;34m(*args, **kwargs)\u001b[0m\n\u001b[1;32m    270\u001b[0m               \u001b[0;34m'in a future version'\u001b[0m \u001b[0;32mif\u001b[0m \u001b[0mdate\u001b[0m \u001b[0;32mis\u001b[0m \u001b[0;32mNone\u001b[0m \u001b[0;32melse\u001b[0m \u001b[0;34m(\u001b[0m\u001b[0;34m'after %s'\u001b[0m \u001b[0;34m%\u001b[0m \u001b[0mdate\u001b[0m\u001b[0;34m)\u001b[0m\u001b[0;34m,\u001b[0m\u001b[0;34m\u001b[0m\u001b[0;34m\u001b[0m\u001b[0m\n\u001b[1;32m    271\u001b[0m               instructions)\n\u001b[0;32m--> 272\u001b[0;31m       \u001b[0;32mreturn\u001b[0m \u001b[0mfunc\u001b[0m\u001b[0;34m(\u001b[0m\u001b[0;34m*\u001b[0m\u001b[0margs\u001b[0m\u001b[0;34m,\u001b[0m \u001b[0;34m**\u001b[0m\u001b[0mkwargs\u001b[0m\u001b[0;34m)\u001b[0m\u001b[0;34m\u001b[0m\u001b[0;34m\u001b[0m\u001b[0m\n\u001b[0m\u001b[1;32m    273\u001b[0m     return tf_decorator.make_decorator(\n\u001b[1;32m    274\u001b[0m         \u001b[0mfunc\u001b[0m\u001b[0;34m,\u001b[0m \u001b[0mnew_func\u001b[0m\u001b[0;34m,\u001b[0m \u001b[0;34m'deprecated'\u001b[0m\u001b[0;34m,\u001b[0m\u001b[0;34m\u001b[0m\u001b[0;34m\u001b[0m\u001b[0m\n",
      "\u001b[0;32m~/anaconda3/lib/python3.6/site-packages/tensorflow/contrib/learn/python/learn/estimators/estimator.py\u001b[0m in \u001b[0;36minfer_real_valued_columns_from_input_fn\u001b[0;34m(input_fn)\u001b[0m\n\u001b[1;32m    162\u001b[0m   \u001b[0;32mwith\u001b[0m \u001b[0mops\u001b[0m\u001b[0;34m.\u001b[0m\u001b[0mGraph\u001b[0m\u001b[0;34m(\u001b[0m\u001b[0;34m)\u001b[0m\u001b[0;34m.\u001b[0m\u001b[0mas_default\u001b[0m\u001b[0;34m(\u001b[0m\u001b[0;34m)\u001b[0m\u001b[0;34m:\u001b[0m\u001b[0;34m\u001b[0m\u001b[0;34m\u001b[0m\u001b[0m\n\u001b[1;32m    163\u001b[0m     \u001b[0mfeatures\u001b[0m\u001b[0;34m,\u001b[0m \u001b[0m_\u001b[0m \u001b[0;34m=\u001b[0m \u001b[0minput_fn\u001b[0m\u001b[0;34m(\u001b[0m\u001b[0;34m)\u001b[0m\u001b[0;34m\u001b[0m\u001b[0;34m\u001b[0m\u001b[0m\n\u001b[0;32m--> 164\u001b[0;31m     \u001b[0;32mreturn\u001b[0m \u001b[0mlayers\u001b[0m\u001b[0;34m.\u001b[0m\u001b[0minfer_real_valued_columns\u001b[0m\u001b[0;34m(\u001b[0m\u001b[0mfeatures\u001b[0m\u001b[0;34m)\u001b[0m\u001b[0;34m\u001b[0m\u001b[0;34m\u001b[0m\u001b[0m\n\u001b[0m\u001b[1;32m    165\u001b[0m \u001b[0;34m\u001b[0m\u001b[0m\n\u001b[1;32m    166\u001b[0m \u001b[0;34m\u001b[0m\u001b[0m\n",
      "\u001b[0;32m~/anaconda3/lib/python3.6/site-packages/tensorflow/contrib/layers/python/layers/feature_column_ops.py\u001b[0m in \u001b[0;36minfer_real_valued_columns\u001b[0;34m(features)\u001b[0m\n\u001b[1;32m    752\u001b[0m \u001b[0;32mdef\u001b[0m \u001b[0minfer_real_valued_columns\u001b[0m\u001b[0;34m(\u001b[0m\u001b[0mfeatures\u001b[0m\u001b[0;34m)\u001b[0m\u001b[0;34m:\u001b[0m\u001b[0;34m\u001b[0m\u001b[0;34m\u001b[0m\u001b[0m\n\u001b[1;32m    753\u001b[0m   \u001b[0;32mif\u001b[0m \u001b[0;32mnot\u001b[0m \u001b[0misinstance\u001b[0m\u001b[0;34m(\u001b[0m\u001b[0mfeatures\u001b[0m\u001b[0;34m,\u001b[0m \u001b[0mdict\u001b[0m\u001b[0;34m)\u001b[0m\u001b[0;34m:\u001b[0m\u001b[0;34m\u001b[0m\u001b[0;34m\u001b[0m\u001b[0m\n\u001b[0;32m--> 754\u001b[0;31m     \u001b[0;32mreturn\u001b[0m \u001b[0;34m[\u001b[0m\u001b[0m_infer_real_valued_column_for_tensor\u001b[0m\u001b[0;34m(\u001b[0m\u001b[0;34m''\u001b[0m\u001b[0;34m,\u001b[0m \u001b[0mfeatures\u001b[0m\u001b[0;34m)\u001b[0m\u001b[0;34m]\u001b[0m\u001b[0;34m\u001b[0m\u001b[0;34m\u001b[0m\u001b[0m\n\u001b[0m\u001b[1;32m    755\u001b[0m \u001b[0;34m\u001b[0m\u001b[0m\n\u001b[1;32m    756\u001b[0m   \u001b[0mfeature_columns\u001b[0m \u001b[0;34m=\u001b[0m \u001b[0;34m[\u001b[0m\u001b[0;34m]\u001b[0m\u001b[0;34m\u001b[0m\u001b[0;34m\u001b[0m\u001b[0m\n",
      "\u001b[0;32m~/anaconda3/lib/python3.6/site-packages/tensorflow/contrib/layers/python/layers/feature_column_ops.py\u001b[0m in \u001b[0;36m_infer_real_valued_column_for_tensor\u001b[0;34m(name, tensor)\u001b[0m\n\u001b[1;32m    741\u001b[0m         \u001b[0;34m'Non integer or non floating types are not supported for auto detection'\u001b[0m\u001b[0;34m\u001b[0m\u001b[0;34m\u001b[0m\u001b[0m\n\u001b[1;32m    742\u001b[0m         \u001b[0;34m'. Please define corresponding FeatureColumn for tensor {} {}.'\u001b[0m\u001b[0;34m,\u001b[0m \u001b[0mname\u001b[0m\u001b[0;34m,\u001b[0m\u001b[0;34m\u001b[0m\u001b[0;34m\u001b[0m\u001b[0m\n\u001b[0;32m--> 743\u001b[0;31m         tensor)\n\u001b[0m\u001b[1;32m    744\u001b[0m \u001b[0;34m\u001b[0m\u001b[0m\n\u001b[1;32m    745\u001b[0m   \u001b[0mshape\u001b[0m \u001b[0;34m=\u001b[0m \u001b[0mtensor\u001b[0m\u001b[0;34m.\u001b[0m\u001b[0mget_shape\u001b[0m\u001b[0;34m(\u001b[0m\u001b[0;34m)\u001b[0m\u001b[0;34m.\u001b[0m\u001b[0mas_list\u001b[0m\u001b[0;34m(\u001b[0m\u001b[0;34m)\u001b[0m\u001b[0;34m\u001b[0m\u001b[0;34m\u001b[0m\u001b[0m\n",
      "\u001b[0;31mValueError\u001b[0m: ('Non integer or non floating types are not supported for auto detection. Please define corresponding FeatureColumn for tensor {} {}.', '', <tf.Tensor 'input:0' shape=(?, 1) dtype=string>)"
     ]
    }
   ],
   "source": [
    "import tensorflow as tf\n",
    "\n",
    "feature_columns = tf.contrib.learn.infer_real_valued_columns_from_input(X_train)\n",
    "\n",
    "# feature_columns = tf.feature_column.numeric_column(\n",
    "#     key=\"X_train\",\n",
    "#     shape=(8726,),\n",
    "#     default_value=None,\n",
    "#     dtype=tf.float32,\n",
    "#     normalizer_fn=None\n",
    "# )\n",
    "dnn_clf = tf.contrib.learn.DNNClassifier(hidden_units=[300,100], n_classes=10908, \n",
    "                                        feature_columns=feature_columns)\n",
    "dnn_clf.fit(X_train, labels_index, batch_size=10, steps=20000)"
   ]
  },
  {
   "cell_type": "code",
   "execution_count": null,
   "metadata": {},
   "outputs": [],
   "source": [
    "sample, sample_labels= X_test, y_test\n",
    "\n",
    "#sample labels index = y test labels index\n",
    "sample_labels_index = list(range(len(y_test)))\n",
    "\n",
    "predictions = list(dnn_clf.predict(X_test))\n",
    "#predictions = models thoughts on what the y is\n",
    "print(\"Predict\", predictions)\n",
    "#the sample labels index is the actual y\n",
    "print (\"Actual \", sample_labels_index)\n",
    "# plot_pokemons(sample, images_per_row=5)\n",
    "print(sample_labels)\n",
    "\n",
    "accuracy_score = dnn_clf.evaluate(sample, sample_labels_index, steps=2)[\"accuracy\"]\n",
    "print(\"\\nTest Accuracy: {0:f}\\n\".format(accuracy_score))"
   ]
  },
  {
   "cell_type": "code",
   "execution_count": null,
   "metadata": {},
   "outputs": [],
   "source": [
    "y_test[1255]"
   ]
  },
  {
   "cell_type": "code",
   "execution_count": null,
   "metadata": {},
   "outputs": [],
   "source": [
    "X_train"
   ]
  },
  {
   "cell_type": "code",
   "execution_count": null,
   "metadata": {},
   "outputs": [],
   "source": []
  }
 ],
 "metadata": {
  "kernelspec": {
   "display_name": "Python 3",
   "language": "python",
   "name": "python3"
  },
  "language_info": {
   "codemirror_mode": {
    "name": "ipython",
    "version": 3
   },
   "file_extension": ".py",
   "mimetype": "text/x-python",
   "name": "python",
   "nbconvert_exporter": "python",
   "pygments_lexer": "ipython3",
   "version": "3.6.7"
  }
 },
 "nbformat": 4,
 "nbformat_minor": 2
}
