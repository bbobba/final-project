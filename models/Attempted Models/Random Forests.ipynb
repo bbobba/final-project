{
 "cells": [
  {
   "cell_type": "code",
   "execution_count": null,
   "metadata": {},
   "outputs": [],
   "source": [
    "# extract the images and labels from the dictionary object\n",
    "X = np.asarray(read_images)\n",
    "# y = np.asarray(imagenames_list)\n",
    "\n",
    "# view an image (e.g. 25) and print its corresponding label\n",
    "img_index = 25\n",
    "plt.imshow(X[img_index])\n",
    "plt.show()\n",
    "print(y[img_index])"
   ]
  },
  {
   "cell_type": "code",
   "execution_count": null,
   "metadata": {},
   "outputs": [],
   "source": [
    "print(X.shape)"
   ]
  },
  {
   "cell_type": "code",
   "execution_count": null,
   "metadata": {},
   "outputs": [],
   "source": [
    "# # data = array(data)\n",
    "# print('Rows: %d' % X.shape[0])\n",
    "# print('Cols: %d' % X.shape[1])"
   ]
  },
  {
   "cell_type": "code",
   "execution_count": null,
   "metadata": {},
   "outputs": [],
   "source": [
    "# from sklearn.utils import shuffle\n",
    "\n",
    "# # X = X.reshape(X.shape[0]*X.shape[1]*X.shape[2],X.shape[3]).T\n",
    "# X = X.reshape(X.shape[0]).T\n",
    "# y = y.reshape(y.shape[0],)\n",
    "# X, y = shuffle(X, y, random_state=42)"
   ]
  },
  {
   "cell_type": "code",
   "execution_count": null,
   "metadata": {},
   "outputs": [],
   "source": []
  },
  {
   "cell_type": "code",
   "execution_count": null,
   "metadata": {},
   "outputs": [],
   "source": []
  },
  {
   "cell_type": "code",
   "execution_count": null,
   "metadata": {},
   "outputs": [],
   "source": []
  },
  {
   "cell_type": "code",
   "execution_count": 13,
   "metadata": {},
   "outputs": [],
   "source": [
    "import os\n",
    "import matplotlib\n",
    "import numpy as np\n",
    "import pandas as pd\n",
    "import matplotlib.pyplot as plt\n",
    "import matplotlib.image as mpimg\n",
    "import glob\n",
    "import cv2\n",
    "\n",
    "#\n",
    "from skimage import color \n",
    "from skimage import io \n",
    "#\n",
    "\n",
    "NUM_IMAGES = 10908\n",
    "TRAIN_SIZE = .8*NUM_IMAGES\n",
    "TEST_SIZE = .2*NUM_IMAGES\n",
    "IMAGE_DIRECTORY= glob.glob('../resources/model-images/')\n",
    "IMAGE_SIZE = 32\n",
    "IMAGE_ARR_SIZE = 32 * 32 * 4\n",
    "KIND_ARRAY=np.array(['Abra', 'Aerodactyl', 'Alakazam', 'Arbok', 'Arcanine',  \n",
    "                    'Articuno', 'Beedrill', 'Bellsprout', 'Blastoise', 'Bulbasaur',  \n",
    "                    'Butterfree','Caterpie','Chansey','Charizard','Charmander',\n",
    "                    'Charmeleon','Clefable', 'Clefairy', 'Cloyster', 'Cubone', \n",
    "                    'Dewgong', 'Diglett', 'Ditto', 'Dodrio', 'Doduo', 'Dragonair', \n",
    "                    'Dragonite', 'Dratini', 'Drowzee', 'Dugtrio', 'Eevee', 'Ekans', \n",
    "                    'Electrabuzz', 'Electrode', 'Exeggcute', 'Exeggutor', 'Farfetchd',\n",
    "                    'Fearow', 'Flareon', 'Gastly', 'Gengar', 'Geodude', 'Gloom', \n",
    "                    'Golbat', 'Goldeen', 'Golduck', 'Golem', 'Graveler', 'Grimer', \n",
    "                    'Growlithe', 'Gyarados', 'Haunter', 'Hitmonchan', 'Hitmonlee', \n",
    "                    'Horsea', 'Hypno', 'Ivysaur', 'Jigglypuff', 'Jolteon', 'Jynx', \n",
    "                    'Kabuto', 'Kabutops', 'Kadabra', 'Kakuna', 'Kangaskhan', 'Kingler',\n",
    "                    'Koffing', 'Krabby', 'Lapras', 'Lickitung', 'Machamp', 'Machoke', \n",
    "                    'Machop', 'Magikarp', 'Magmar', 'Magnemite', 'Magneton', 'Mankey', \n",
    "                    'Marowak', 'Meowth', 'Metapod', 'Mew', 'Mewtwo', 'Moltres', 'MrMime', \n",
    "                    'Muk', 'Nidoking', 'Nidoqueen', 'Nidorina', 'Nidorino', 'Ninetales', \n",
    "                    'Oddish', 'Omantye', 'Omastar', 'Onix', 'Paras', 'Parasect', 'Persian', \n",
    "                    'Pidgeot', 'Pidgeotto', 'Pidgey', 'Pikachu', 'Pinsir', 'Poliwag', \n",
    "                    'Poliwhirl', 'Poliwrath', 'Ponyta', 'Porygon', 'Primeape', 'Psyduck', \n",
    "                    'Raichu', 'Rapidash', 'Raticate', 'Rattata', 'Rhydon', 'Rhyhorn', \n",
    "                    'Sandshrew', 'Sandslash', 'Scyther', 'Seadra', 'Seaking', 'Seel', \n",
    "                    'Shellder', 'Slowbro', 'Slowpoke', 'Snorlax', 'Spearow', 'Squirtle', \n",
    "                    'Starmie', 'Staryu', 'Tangela', 'Tauros', 'Tentacool', 'Tentacruel', \n",
    "                    'Vaporeon', 'Venomoth', 'Venonat', 'Venusaur', 'Victreebel', \n",
    "                    'Vileplume', 'Voltorb', 'Vulpix', 'Wartortle', 'Weedle', 'Weepinbell', \n",
    "                    'Weezing', 'Wigglytuff', 'Zapdos', 'Zupbat'])\\\n",
    "\n",
    "\n",
    "def load_images(image_dir):\n",
    "    labels = []\n",
    "    names = []\n",
    "    read_images = []\n",
    "    image_index = 0\n",
    "    \n",
    "    \n",
    "    # 10908 Pokemon images\n",
    "    X = np.ndarray(shape=(10908, IMAGE_ARR_SIZE))\n",
    "                        \n",
    "    \n",
    "    # Loop through all the folders\n",
    "    for kind in os.listdir(image_dir):\n",
    "        if kind == '.DS_Store':\n",
    "                pass  \n",
    "        else: \n",
    "            type_images = os.listdir(image_dir + kind + '/')\n",
    "\n",
    "            \n",
    "        # Loop through all the images in the folders\n",
    "        for image in type_images:\n",
    "            targeted_image = []\n",
    "            image_file = os.path.join(image_dir, kind, image)\n",
    "            targeted_image.append(cv2.imread(image_file, cv2.IMREAD_GRAYSCALE))\n",
    "            targeted_image = np.asarray(targeted_image).flatten()\n",
    "            read_images.append(targeted_image)\n",
    "#             image_file = (cv2.imread(image, cv2.IMREAD_GRAYSCALE))\n",
    "            names.append(image)\n",
    "            labels.append(kind)\n",
    "\n",
    "            if OSError: \n",
    "                pass          \n",
    "            else:\n",
    "#                 image_data = mpimg.imread(image_file)\n",
    "#                 image_data = cv2.imread(image_file, cv2.IMREAD_GRAYSCALE)\n",
    "#             image_data = image.load_img(image_file, target_size=(224, 224))\n",
    "#             image_data = image.img_to_array(image_file)\n",
    "#             image_data /= 255\n",
    "#                 X[image_index, :] = image_data.flatten()\n",
    "#                 X[image_index, :, :] = image_data.flatten().reshape(-1, 28 * 28)\n",
    "                image_index += 1\n",
    "        \n",
    "#     return (X, np.asarray(labels), np.asarray(names))\n",
    "    return (np.asarray(read_images), np.asarray(labels), np.asarray(names))\n",
    "\n",
    "# def plot_pokemon(data):\n",
    "#     plt.figure(figsize=(1,1))\n",
    "#     image = data.reshape(32, 32, 4)\n",
    "#     plt.imshow(image, cmap = matplotlib.cm.binary,\n",
    "#                interpolation=\"nearest\")\n",
    "#     plt.axis(\"off\")\n",
    "#     plt.show()\n",
    "\n",
    "# def plot_pokemons(instances, images_per_row=10, **options):\n",
    "#     size = IMAGE_SIZE\n",
    "#     images_per_row = min(len(instances), images_per_row)\n",
    "#     images = [instance.reshape(size,size,4) for instance in instances]\n",
    "#     n_rows = (len(instances) - 1) // images_per_row + 1\n",
    "#     row_images = []\n",
    "#     n_empty = n_rows * images_per_row - len(instances)\n",
    "#     images.append(np.zeros((size, size * n_empty)))\n",
    "#     for row in range(n_rows):\n",
    "#         if (row == len(instances)/images_per_row):\n",
    "#             break\n",
    "#         rimages = images[row * images_per_row : (row + 1) * images_per_row]\n",
    "#         #print (row, np.array(rimages).shape)    \n",
    "#         row_images.append(np.concatenate(rimages, axis=1))\n",
    "#     image = np.concatenate(row_images, axis=0)\n",
    "#     plt.imshow(image, **options)\n",
    "#     plt.axis(\"off\")\n",
    "#     plt.show()\n",
    "    \n",
    "# def get_pokemon_of_type(X, labels, kind):\n",
    "#     poke_type = []\n",
    "#     for row in range(len(X)-1):\n",
    "#         if (labels[row]==kind):\n",
    "#             poke_type.append(X[row])\n",
    "#     return np.asarray(poke_type)\n",
    "\n",
    "# def get_pokemon_type_index(type_name):\n",
    "#     for i in range(len(TYPE_ARRAY)):\n",
    "#         if TYPE_ARRAY[i] == type_name:\n",
    "#             return i;\n",
    "#     return 0\n",
    "\n",
    "# def get_labels_index(labels):\n",
    "#     labels_index = []\n",
    "#     for i in range(len(labels)):\n",
    "#         labels_index.append(get_pokemon_type_index(labels[i]))\n",
    "#     return labels_index"
   ]
  },
  {
   "cell_type": "code",
   "execution_count": 14,
   "metadata": {},
   "outputs": [],
   "source": [
    "# print(len(IMAGE_DIRECTORY))\n",
    "# print(len(KIND_ARRAY))\n",
    "# type"
   ]
  },
  {
   "cell_type": "code",
   "execution_count": 15,
   "metadata": {},
   "outputs": [
    {
     "data": {
      "text/plain": [
       "str"
      ]
     },
     "execution_count": 15,
     "metadata": {},
     "output_type": "execute_result"
    }
   ],
   "source": [
    "type(IMAGE_DIRECTORY)\n",
    "IMAGE_DIRECTORY_STR = ''.join(IMAGE_DIRECTORY)\n",
    "type(IMAGE_DIRECTORY_STR)"
   ]
  },
  {
   "cell_type": "code",
   "execution_count": 16,
   "metadata": {},
   "outputs": [
    {
     "ename": "KeyboardInterrupt",
     "evalue": "",
     "output_type": "error",
     "traceback": [
      "\u001b[0;31m---------------------------------------------------------------------------\u001b[0m",
      "\u001b[0;31mKeyboardInterrupt\u001b[0m                         Traceback (most recent call last)",
      "\u001b[0;32m<ipython-input-16-fdd938a1b5e5>\u001b[0m in \u001b[0;36m<module>\u001b[0;34m\u001b[0m\n\u001b[0;32m----> 1\u001b[0;31m \u001b[0mdataset\u001b[0m \u001b[0;34m=\u001b[0m \u001b[0mload_images\u001b[0m\u001b[0;34m(\u001b[0m\u001b[0mIMAGE_DIRECTORY_STR\u001b[0m\u001b[0;34m)\u001b[0m\u001b[0;34m\u001b[0m\u001b[0;34m\u001b[0m\u001b[0m\n\u001b[0m\u001b[1;32m      2\u001b[0m \u001b[0mdataset\u001b[0m\u001b[0;34m\u001b[0m\u001b[0;34m\u001b[0m\u001b[0m\n",
      "\u001b[0;32m<ipython-input-13-2cf1eaf912e4>\u001b[0m in \u001b[0;36mload_images\u001b[0;34m(image_dir)\u001b[0m\n\u001b[1;32m     70\u001b[0m             \u001b[0mtargeted_image\u001b[0m \u001b[0;34m=\u001b[0m \u001b[0;34m[\u001b[0m\u001b[0;34m]\u001b[0m\u001b[0;34m\u001b[0m\u001b[0;34m\u001b[0m\u001b[0m\n\u001b[1;32m     71\u001b[0m             \u001b[0mimage_file\u001b[0m \u001b[0;34m=\u001b[0m \u001b[0mos\u001b[0m\u001b[0;34m.\u001b[0m\u001b[0mpath\u001b[0m\u001b[0;34m.\u001b[0m\u001b[0mjoin\u001b[0m\u001b[0;34m(\u001b[0m\u001b[0mimage_dir\u001b[0m\u001b[0;34m,\u001b[0m \u001b[0mkind\u001b[0m\u001b[0;34m,\u001b[0m \u001b[0mimage\u001b[0m\u001b[0;34m)\u001b[0m\u001b[0;34m\u001b[0m\u001b[0;34m\u001b[0m\u001b[0m\n\u001b[0;32m---> 72\u001b[0;31m             \u001b[0mtargeted_image\u001b[0m\u001b[0;34m.\u001b[0m\u001b[0mappend\u001b[0m\u001b[0;34m(\u001b[0m\u001b[0mcv2\u001b[0m\u001b[0;34m.\u001b[0m\u001b[0mimread\u001b[0m\u001b[0;34m(\u001b[0m\u001b[0mimage_file\u001b[0m\u001b[0;34m,\u001b[0m \u001b[0mcv2\u001b[0m\u001b[0;34m.\u001b[0m\u001b[0mIMREAD_GRAYSCALE\u001b[0m\u001b[0;34m)\u001b[0m\u001b[0;34m)\u001b[0m\u001b[0;34m\u001b[0m\u001b[0;34m\u001b[0m\u001b[0m\n\u001b[0m\u001b[1;32m     73\u001b[0m             \u001b[0mtargeted_image\u001b[0m \u001b[0;34m=\u001b[0m \u001b[0mnp\u001b[0m\u001b[0;34m.\u001b[0m\u001b[0masarray\u001b[0m\u001b[0;34m(\u001b[0m\u001b[0mtargeted_image\u001b[0m\u001b[0;34m)\u001b[0m\u001b[0;34m.\u001b[0m\u001b[0mflatten\u001b[0m\u001b[0;34m(\u001b[0m\u001b[0;34m)\u001b[0m\u001b[0;34m\u001b[0m\u001b[0;34m\u001b[0m\u001b[0m\n\u001b[1;32m     74\u001b[0m             \u001b[0mread_images\u001b[0m\u001b[0;34m.\u001b[0m\u001b[0mappend\u001b[0m\u001b[0;34m(\u001b[0m\u001b[0mtargeted_image\u001b[0m\u001b[0;34m)\u001b[0m\u001b[0;34m\u001b[0m\u001b[0;34m\u001b[0m\u001b[0m\n",
      "\u001b[0;31mKeyboardInterrupt\u001b[0m: "
     ]
    }
   ],
   "source": [
    "dataset = load_images(IMAGE_DIRECTORY_STR)\n",
    "dataset"
   ]
  },
  {
   "cell_type": "code",
   "execution_count": null,
   "metadata": {},
   "outputs": [],
   "source": [
    "#VGG19 --> use different last layer, new layer equal to number of pokemon\n",
    "#Nception\n",
    "#transfer learning"
   ]
  },
  {
   "cell_type": "code",
   "execution_count": null,
   "metadata": {},
   "outputs": [],
   "source": [
    "y = dataset[1]\n",
    "X = dataset[0]"
   ]
  },
  {
   "cell_type": "code",
   "execution_count": 6,
   "metadata": {},
   "outputs": [
    {
     "name": "stdout",
     "output_type": "stream",
     "text": [
      "Zapdos\n"
     ]
    }
   ],
   "source": [
    "img_index = 25\n",
    "# plt.imshow(X[img_index])\n",
    "plt.show()\n",
    "print(y[img_index])"
   ]
  },
  {
   "cell_type": "code",
   "execution_count": 7,
   "metadata": {},
   "outputs": [],
   "source": [
    "from sklearn.model_selection import train_test_split\n",
    "\n",
    "labels_index = get_labels_index(y)\n",
    "X_train, X_test, y_train, y_test = train_test_split(X, y, test_size=0.2, random_state=42)"
   ]
  },
  {
   "cell_type": "code",
   "execution_count": 8,
   "metadata": {},
   "outputs": [
    {
     "data": {
      "text/plain": [
       "RandomForestClassifier(bootstrap=True, class_weight=None, criterion='gini',\n",
       "            max_depth=None, max_features='auto', max_leaf_nodes=None,\n",
       "            min_impurity_decrease=0.0, min_impurity_split=1e-07,\n",
       "            min_samples_leaf=1, min_samples_split=2,\n",
       "            min_weight_fraction_leaf=0.0, n_estimators=10, n_jobs=1,\n",
       "            oob_score=False, random_state=None, verbose=0,\n",
       "            warm_start=False)"
      ]
     },
     "execution_count": 8,
     "metadata": {},
     "output_type": "execute_result"
    }
   ],
   "source": [
    "from sklearn.ensemble import RandomForestClassifier\n",
    "\n",
    "clf = RandomForestClassifier()\n",
    "\n",
    "RandomForestClassifier(bootstrap=True, class_weight=None, criterion='gini',\n",
    "           max_depth=None, max_features='auto', max_leaf_nodes=None,\n",
    "           min_impurity_split=1e-07, min_samples_leaf=1,\n",
    "           min_samples_split=2, min_weight_fraction_leaf=0.0,\n",
    "           n_estimators=10, n_jobs=1, oob_score=False, random_state=None,\n",
    "           verbose=0, warm_start=False)"
   ]
  },
  {
   "cell_type": "code",
   "execution_count": 9,
   "metadata": {},
   "outputs": [],
   "source": [
    "X_train = X_train.reshape((len(X_train), 1))"
   ]
  },
  {
   "cell_type": "code",
   "execution_count": 12,
   "metadata": {},
   "outputs": [
    {
     "data": {
      "text/plain": [
       "(8726, 1)"
      ]
     },
     "execution_count": 12,
     "metadata": {},
     "output_type": "execute_result"
    }
   ],
   "source": [
    "X_train.shape"
   ]
  },
  {
   "cell_type": "code",
   "execution_count": 11,
   "metadata": {},
   "outputs": [
    {
     "name": "stderr",
     "output_type": "stream",
     "text": [
      "/Users/delaynabradshaw/anaconda3/lib/python3.6/site-packages/sklearn/ensemble/forest.py:246: FutureWarning: The default value of n_estimators will change from 10 in version 0.20 to 100 in 0.22.\n",
      "  \"10 in version 0.20 to 100 in 0.22.\", FutureWarning)\n"
     ]
    },
    {
     "ename": "ValueError",
     "evalue": "setting an array element with a sequence.",
     "output_type": "error",
     "traceback": [
      "\u001b[0;31m---------------------------------------------------------------------------\u001b[0m",
      "\u001b[0;31mValueError\u001b[0m                                Traceback (most recent call last)",
      "\u001b[0;32m<ipython-input-11-4f66baab8f93>\u001b[0m in \u001b[0;36m<module>\u001b[0;34m\u001b[0m\n\u001b[0;32m----> 1\u001b[0;31m \u001b[0mclf\u001b[0m\u001b[0;34m.\u001b[0m\u001b[0mfit\u001b[0m\u001b[0;34m(\u001b[0m\u001b[0mX_train\u001b[0m\u001b[0;34m,\u001b[0m \u001b[0my_train\u001b[0m\u001b[0;34m)\u001b[0m\u001b[0;34m\u001b[0m\u001b[0;34m\u001b[0m\u001b[0m\n\u001b[0m",
      "\u001b[0;32m~/anaconda3/lib/python3.6/site-packages/sklearn/ensemble/forest.py\u001b[0m in \u001b[0;36mfit\u001b[0;34m(self, X, y, sample_weight)\u001b[0m\n\u001b[1;32m    248\u001b[0m \u001b[0;34m\u001b[0m\u001b[0m\n\u001b[1;32m    249\u001b[0m         \u001b[0;31m# Validate or convert input data\u001b[0m\u001b[0;34m\u001b[0m\u001b[0;34m\u001b[0m\u001b[0;34m\u001b[0m\u001b[0m\n\u001b[0;32m--> 250\u001b[0;31m         \u001b[0mX\u001b[0m \u001b[0;34m=\u001b[0m \u001b[0mcheck_array\u001b[0m\u001b[0;34m(\u001b[0m\u001b[0mX\u001b[0m\u001b[0;34m,\u001b[0m \u001b[0maccept_sparse\u001b[0m\u001b[0;34m=\u001b[0m\u001b[0;34m\"csc\"\u001b[0m\u001b[0;34m,\u001b[0m \u001b[0mdtype\u001b[0m\u001b[0;34m=\u001b[0m\u001b[0mDTYPE\u001b[0m\u001b[0;34m)\u001b[0m\u001b[0;34m\u001b[0m\u001b[0;34m\u001b[0m\u001b[0m\n\u001b[0m\u001b[1;32m    251\u001b[0m         \u001b[0my\u001b[0m \u001b[0;34m=\u001b[0m \u001b[0mcheck_array\u001b[0m\u001b[0;34m(\u001b[0m\u001b[0my\u001b[0m\u001b[0;34m,\u001b[0m \u001b[0maccept_sparse\u001b[0m\u001b[0;34m=\u001b[0m\u001b[0;34m'csc'\u001b[0m\u001b[0;34m,\u001b[0m \u001b[0mensure_2d\u001b[0m\u001b[0;34m=\u001b[0m\u001b[0;32mFalse\u001b[0m\u001b[0;34m,\u001b[0m \u001b[0mdtype\u001b[0m\u001b[0;34m=\u001b[0m\u001b[0;32mNone\u001b[0m\u001b[0;34m)\u001b[0m\u001b[0;34m\u001b[0m\u001b[0;34m\u001b[0m\u001b[0m\n\u001b[1;32m    252\u001b[0m         \u001b[0;32mif\u001b[0m \u001b[0msample_weight\u001b[0m \u001b[0;32mis\u001b[0m \u001b[0;32mnot\u001b[0m \u001b[0;32mNone\u001b[0m\u001b[0;34m:\u001b[0m\u001b[0;34m\u001b[0m\u001b[0;34m\u001b[0m\u001b[0m\n",
      "\u001b[0;32m~/anaconda3/lib/python3.6/site-packages/sklearn/utils/validation.py\u001b[0m in \u001b[0;36mcheck_array\u001b[0;34m(array, accept_sparse, accept_large_sparse, dtype, order, copy, force_all_finite, ensure_2d, allow_nd, ensure_min_samples, ensure_min_features, warn_on_dtype, estimator)\u001b[0m\n\u001b[1;32m    525\u001b[0m             \u001b[0;32mtry\u001b[0m\u001b[0;34m:\u001b[0m\u001b[0;34m\u001b[0m\u001b[0;34m\u001b[0m\u001b[0m\n\u001b[1;32m    526\u001b[0m                 \u001b[0mwarnings\u001b[0m\u001b[0;34m.\u001b[0m\u001b[0msimplefilter\u001b[0m\u001b[0;34m(\u001b[0m\u001b[0;34m'error'\u001b[0m\u001b[0;34m,\u001b[0m \u001b[0mComplexWarning\u001b[0m\u001b[0;34m)\u001b[0m\u001b[0;34m\u001b[0m\u001b[0;34m\u001b[0m\u001b[0m\n\u001b[0;32m--> 527\u001b[0;31m                 \u001b[0marray\u001b[0m \u001b[0;34m=\u001b[0m \u001b[0mnp\u001b[0m\u001b[0;34m.\u001b[0m\u001b[0masarray\u001b[0m\u001b[0;34m(\u001b[0m\u001b[0marray\u001b[0m\u001b[0;34m,\u001b[0m \u001b[0mdtype\u001b[0m\u001b[0;34m=\u001b[0m\u001b[0mdtype\u001b[0m\u001b[0;34m,\u001b[0m \u001b[0morder\u001b[0m\u001b[0;34m=\u001b[0m\u001b[0morder\u001b[0m\u001b[0;34m)\u001b[0m\u001b[0;34m\u001b[0m\u001b[0;34m\u001b[0m\u001b[0m\n\u001b[0m\u001b[1;32m    528\u001b[0m             \u001b[0;32mexcept\u001b[0m \u001b[0mComplexWarning\u001b[0m\u001b[0;34m:\u001b[0m\u001b[0;34m\u001b[0m\u001b[0;34m\u001b[0m\u001b[0m\n\u001b[1;32m    529\u001b[0m                 raise ValueError(\"Complex data not supported\\n\"\n",
      "\u001b[0;32m~/anaconda3/lib/python3.6/site-packages/numpy/core/numeric.py\u001b[0m in \u001b[0;36masarray\u001b[0;34m(a, dtype, order)\u001b[0m\n\u001b[1;32m    490\u001b[0m \u001b[0;34m\u001b[0m\u001b[0m\n\u001b[1;32m    491\u001b[0m     \"\"\"\n\u001b[0;32m--> 492\u001b[0;31m     \u001b[0;32mreturn\u001b[0m \u001b[0marray\u001b[0m\u001b[0;34m(\u001b[0m\u001b[0ma\u001b[0m\u001b[0;34m,\u001b[0m \u001b[0mdtype\u001b[0m\u001b[0;34m,\u001b[0m \u001b[0mcopy\u001b[0m\u001b[0;34m=\u001b[0m\u001b[0;32mFalse\u001b[0m\u001b[0;34m,\u001b[0m \u001b[0morder\u001b[0m\u001b[0;34m=\u001b[0m\u001b[0morder\u001b[0m\u001b[0;34m)\u001b[0m\u001b[0;34m\u001b[0m\u001b[0;34m\u001b[0m\u001b[0m\n\u001b[0m\u001b[1;32m    493\u001b[0m \u001b[0;34m\u001b[0m\u001b[0m\n\u001b[1;32m    494\u001b[0m \u001b[0;34m\u001b[0m\u001b[0m\n",
      "\u001b[0;31mValueError\u001b[0m: setting an array element with a sequence."
     ]
    }
   ],
   "source": [
    "clf.fit(X_train, y_train)"
   ]
  },
  {
   "cell_type": "code",
   "execution_count": null,
   "metadata": {},
   "outputs": [],
   "source": [
    "from sklearn.metrics import accuracy_score\n",
    "\n",
    "preds = clf.predict(X_test)\n",
    "print(\"Accuracy:\", accuracy_score(y_test,preds))"
   ]
  },
  {
   "cell_type": "code",
   "execution_count": null,
   "metadata": {},
   "outputs": [],
   "source": []
  },
  {
   "cell_type": "code",
   "execution_count": null,
   "metadata": {},
   "outputs": [],
   "source": [
    "X, labels, names = load_images(IMAGE_DIRECTORY_STR)\n",
    "shuffle_index = np.random.permutation(NUM_IMAGES)\n",
    "X, labels = X[shuffle_index], labels[shuffle_index]\n",
    "labels_index = get_labels_index(labels)\n",
    "X_train, labels_train, labels_index_train = X[:8000], labels[:8000], labels_index[:8000]\n",
    "\n",
    "print ('Magikarp')\n",
    "water = get_pokemon_of_type(X, labels, 'Magikarp')\n",
    "plot_pokemons(water, images_per_row=10)\n",
    "print (water.shape)\n",
    "\n",
    "# print ('Normal Pokemon')\n",
    "# normal = get_pokemon_of_type(X, labels, 'Normal')\n",
    "# plot_pokemons(normal, images_per_row=10)\n",
    "# print (normal.shape)"
   ]
  },
  {
   "cell_type": "code",
   "execution_count": null,
   "metadata": {},
   "outputs": [],
   "source": []
  },
  {
   "cell_type": "code",
   "execution_count": null,
   "metadata": {},
   "outputs": [],
   "source": []
  },
  {
   "cell_type": "code",
   "execution_count": null,
   "metadata": {},
   "outputs": [],
   "source": []
  }
 ],
 "metadata": {
  "kernelspec": {
   "display_name": "Python 3",
   "language": "python",
   "name": "python3"
  },
  "language_info": {
   "codemirror_mode": {
    "name": "ipython",
    "version": 3
   },
   "file_extension": ".py",
   "mimetype": "text/x-python",
   "name": "python",
   "nbconvert_exporter": "python",
   "pygments_lexer": "ipython3",
   "version": "3.6.7"
  }
 },
 "nbformat": 4,
 "nbformat_minor": 2
}
